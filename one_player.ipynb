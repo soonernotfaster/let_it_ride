{
 "cells": [
  {
   "cell_type": "code",
   "execution_count": 1,
   "id": "66ef5471",
   "metadata": {},
   "outputs": [],
   "source": [
    "import pandas as pd"
   ]
  },
  {
   "cell_type": "code",
   "execution_count": 3,
   "id": "da431f68",
   "metadata": {},
   "outputs": [],
   "source": [
    "df = pd.read_csv(\"data/one_player.csv\")"
   ]
  },
  {
   "cell_type": "code",
   "execution_count": 6,
   "id": "c48c26b4",
   "metadata": {},
   "outputs": [
    {
     "data": {
      "text/plain": [
       "no-payout         0.79284\n",
       "1-pair            0.18685\n",
       "3-of-a-kind       0.00890\n",
       "2-pair            0.00598\n",
       "straight          0.00323\n",
       "flush             0.00179\n",
       "full-house        0.00024\n",
       "4-of-a-kind       0.00013\n",
       "straight-flush    0.00004\n",
       "Name: result, dtype: float64"
      ]
     },
     "execution_count": 6,
     "metadata": {},
     "output_type": "execute_result"
    }
   ],
   "source": [
    "df.result.value_counts(normalize=True)"
   ]
  },
  {
   "cell_type": "code",
   "execution_count": 7,
   "id": "462a6030",
   "metadata": {},
   "outputs": [],
   "source": [
    "t_df = pd.read_csv(\"data/two_player.csv\")"
   ]
  },
  {
   "cell_type": "code",
   "execution_count": 8,
   "id": "cc8821f3",
   "metadata": {},
   "outputs": [
    {
     "data": {
      "text/plain": [
       "no-payout         0.79075\n",
       "1-pair            0.18857\n",
       "3-of-a-kind       0.00878\n",
       "2-pair            0.00588\n",
       "straight          0.00369\n",
       "flush             0.00209\n",
       "full-house        0.00017\n",
       "4-of-a-kind       0.00006\n",
       "straight-flush    0.00001\n",
       "Name: player_1_result, dtype: float64"
      ]
     },
     "execution_count": 8,
     "metadata": {},
     "output_type": "execute_result"
    }
   ],
   "source": [
    "t_df.player_1_result.value_counts(normalize=True)"
   ]
  },
  {
   "cell_type": "code",
   "execution_count": 10,
   "id": "b3de1e4a",
   "metadata": {},
   "outputs": [
    {
     "data": {
      "text/plain": [
       "no-payout         0.79321\n",
       "1-pair            0.18677\n",
       "3-of-a-kind       0.00815\n",
       "2-pair            0.00657\n",
       "straight          0.00329\n",
       "flush             0.00170\n",
       "full-house        0.00019\n",
       "4-of-a-kind       0.00010\n",
       "straight-flush    0.00002\n",
       "Name: player_2_result, dtype: float64"
      ]
     },
     "execution_count": 10,
     "metadata": {},
     "output_type": "execute_result"
    }
   ],
   "source": [
    "t_df.player_2_result.value_counts(normalize=True)"
   ]
  },
  {
   "cell_type": "code",
   "execution_count": null,
   "id": "3b45469e",
   "metadata": {},
   "outputs": [],
   "source": []
  }
 ],
 "metadata": {
  "kernelspec": {
   "display_name": "Python 3",
   "language": "python",
   "name": "python3"
  },
  "language_info": {
   "codemirror_mode": {
    "name": "ipython",
    "version": 3
   },
   "file_extension": ".py",
   "mimetype": "text/x-python",
   "name": "python",
   "nbconvert_exporter": "python",
   "pygments_lexer": "ipython3",
   "version": "3.11.4"
  }
 },
 "nbformat": 4,
 "nbformat_minor": 5
}
